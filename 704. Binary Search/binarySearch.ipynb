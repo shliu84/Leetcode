{
 "cells": [
  {
   "cell_type": "code",
   "execution_count": 13,
   "id": "6bf35418",
   "metadata": {},
   "outputs": [],
   "source": [
    "from typing import List"
   ]
  },
  {
   "cell_type": "code",
   "execution_count": 14,
   "id": "2a39dfc2",
   "metadata": {},
   "outputs": [],
   "source": [
    "def search( nums: List[int], target: int) -> int:\n",
    "        (l,r)=(0,len(nums)-1)\n",
    "        return binary(nums,target,l,r)\n"
   ]
  },
  {
   "cell_type": "code",
   "execution_count": 15,
   "id": "c6fdf32c",
   "metadata": {},
   "outputs": [],
   "source": [
    "def binary( nums: List[int], target: int, l: int, r: int) -> int:\n",
    "    if l <= r:\n",
    "        mid = int((l+r)/2)\n",
    "\n",
    "        if nums[mid] == target:\n",
    "            return mid\n",
    "        elif nums[mid]<target:\n",
    "            binary(nums,target, mid+1, r)\n",
    "        else:\n",
    "            binary(nums,target, l, mid-1)\n",
    "    else:\n",
    "        return -1"
   ]
  },
  {
   "cell_type": "code",
   "execution_count": 16,
   "id": "26976fdd",
   "metadata": {},
   "outputs": [
    {
     "name": "stdout",
     "output_type": "stream",
     "text": [
      "None\n"
     ]
    }
   ],
   "source": [
    "nums = [1,2,3,4,5]\n",
    "target = 1\n",
    "print(binary(nums,target,0,4))"
   ]
  },
  {
   "cell_type": "code",
   "execution_count": 17,
   "id": "fe629768",
   "metadata": {},
   "outputs": [],
   "source": [
    "class Solution:\n",
    "    def search(self, nums: List[int], target: int) -> int:\n",
    "        (l,r) = (0,len(nums)-1)\n",
    "        return self.binary(nums,target,l,r)\n",
    "    \n",
    "    def binary(self, nums: List[int], target: int, l: int, r: int) -> int:\n",
    "        if l <= r:\n",
    "            mid = int((l+r)/2)\n",
    "            if nums[mid] == target:\n",
    "                return mid\n",
    "            elif nums[mid]<target:\n",
    "                return self.binary(nums, target, mid+1, r)\n",
    "            else:\n",
    "                return self.binary(nums, target,l, mid-1)\n",
    "        else:\n",
    "            return -1\n",
    "#     def recur(self,n):\n",
    "#         if n==0:\n",
    "#             return 0;\n",
    "#         else:\n",
    "#             print(n)\n",
    "#             n = n-1\n",
    "#             self.recur(n)"
   ]
  },
  {
   "cell_type": "code",
   "execution_count": null,
   "id": "081cb582",
   "metadata": {},
   "outputs": [],
   "source": [
    "    \n",
    "        "
   ]
  },
  {
   "cell_type": "code",
   "execution_count": 18,
   "id": "dcb090dc",
   "metadata": {},
   "outputs": [],
   "source": [
    "a = Solution()"
   ]
  },
  {
   "cell_type": "code",
   "execution_count": 19,
   "id": "5fca082f",
   "metadata": {},
   "outputs": [],
   "source": [
    "nums = [-1,0,3,5,9,12]\n",
    "target = 9"
   ]
  },
  {
   "cell_type": "code",
   "execution_count": 20,
   "id": "4068c0ee",
   "metadata": {},
   "outputs": [
    {
     "name": "stdout",
     "output_type": "stream",
     "text": [
      "4\n"
     ]
    }
   ],
   "source": [
    "print(a.search(nums,target))"
   ]
  },
  {
   "cell_type": "code",
   "execution_count": 21,
   "id": "b1d39b2c",
   "metadata": {},
   "outputs": [
    {
     "name": "stdout",
     "output_type": "stream",
     "text": [
      "4\n"
     ]
    }
   ],
   "source": [
    "print(a.binary(nums,target,0,len(nums)-1))"
   ]
  },
  {
   "cell_type": "code",
   "execution_count": null,
   "id": "ef14e0db",
   "metadata": {},
   "outputs": [],
   "source": []
  }
 ],
 "metadata": {
  "kernelspec": {
   "display_name": "Python 3 (ipykernel)",
   "language": "python",
   "name": "python3"
  },
  "language_info": {
   "codemirror_mode": {
    "name": "ipython",
    "version": 3
   },
   "file_extension": ".py",
   "mimetype": "text/x-python",
   "name": "python",
   "nbconvert_exporter": "python",
   "pygments_lexer": "ipython3",
   "version": "3.9.7"
  }
 },
 "nbformat": 4,
 "nbformat_minor": 5
}
